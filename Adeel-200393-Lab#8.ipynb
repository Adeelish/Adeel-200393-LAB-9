{
 "cells": [
  {
   "cell_type": "code",
   "execution_count": 1,
   "id": "4c361a79",
   "metadata": {},
   "outputs": [
    {
     "name": "stdout",
     "output_type": "stream",
     "text": [
      "Enter Billing Amount :\n",
      "4000\n",
      "Enter Payment :\n",
      "2000\n",
      "remaining bill=2000.0\n",
      "Penalty = 200.0\n"
     ]
    }
   ],
   "source": [
    "b=0\n",
    "p=0\n",
    "pp=0\n",
    "penalty=0\n",
    "\n",
    "b=float(input(\"Enter Billing Amount :\\n\"))\n",
    "p=float(input(\"Enter Payment :\\n\"))\n",
    "balance=b-p\n",
    "\n",
    "if(balance != 0):\n",
    "    pp=p/b\n",
    "else:\n",
    "    pp=1.0\n",
    "    \n",
    "if(pp==1.0):\n",
    "    credit=b * 0.01\n",
    "    if(credit > 10.0):\n",
    "        credit=10.0\n",
    "\n",
    "elif(pp >= 0.50):\n",
    "    penalty=b * 0.05\n",
    "    \n",
    "elif(pp >=0.20 and pp < 0.50):\n",
    "    penalty=b * 0.10\n",
    "\n",
    "else:\n",
    "    penalty=b * 0.20\n",
    "    \n",
    "if(penalty !=0):\n",
    "    print(\"remaining bill=\"+str(balance))\n",
    "    print(\"Penalty = \"+ str(penalty))\n",
    "else:\n",
    "    print(\"Thank you paying full amount\")\n",
    "    print(\"You will recieve credit=\"+str(credit)+(\" on your next bill\"))"
   ]
  },
  {
   "cell_type": "code",
   "execution_count": 2,
   "id": "975934ee",
   "metadata": {},
   "outputs": [
    {
     "name": "stdout",
     "output_type": "stream",
     "text": [
      "[5, 15, 25, 50]\n"
     ]
    }
   ],
   "source": [
    "l=[5,20,15,20,25,50,20]\n",
    "for i in l:\n",
    "    if i==20:\n",
    "        l.remove(i)\n",
    "print(l)"
   ]
  },
  {
   "cell_type": "code",
   "execution_count": 3,
   "id": "4a3a3df1",
   "metadata": {},
   "outputs": [
    {
     "name": "stdout",
     "output_type": "stream",
     "text": [
      "[5, 200, 15, 20, 25, 50, 20]\n"
     ]
    }
   ],
   "source": [
    "l=[5,20,15,20,25,50,20]\n",
    "for i in range(len(l)):\n",
    "    if l[i]==20:\n",
    "        l[i]=200\n",
    "        break\n",
    "print(l)"
   ]
  },
  {
   "cell_type": "code",
   "execution_count": 4,
   "id": "5d2ea083",
   "metadata": {},
   "outputs": [
    {
     "name": "stdout",
     "output_type": "stream",
     "text": [
      "All the elements are Equal\n"
     ]
    }
   ],
   "source": [
    "Tuple = ('Mon','Mon','Mon','Mon')\n",
    "\n",
    "result = Tuple.count(Tuple[0]) == len(Tuple)\n",
    "\n",
    "if (result):\n",
    "   print(\"All the elements are Equal\")\n",
    "else:\n",
    "   print(\"Elements are not equal\")"
   ]
  },
  {
   "cell_type": "code",
   "execution_count": 5,
   "id": "95db0686",
   "metadata": {},
   "outputs": [
    {
     "name": "stdout",
     "output_type": "stream",
     "text": [
      "\n",
      "\n",
      "1 2 3 Adeel Babar 6 7 Adeel 9 Babar \n",
      "\n",
      "11 Adeel 13 14 Babar Adeel 17 18 19 200393 \n",
      "\n",
      "21 22 23 Adeel Babar 26 27 Adeel 29 Babar \n",
      "\n",
      "31 Adeel 33 34 Babar Adeel 37 38 39 200393 "
     ]
    }
   ],
   "source": [
    "for i in range (1,41):\n",
    "    if(i % 10 == 1):\n",
    "        print(\"\\n\")\n",
    "        \n",
    "    if(i%4== 0 and i%5== 0):\n",
    "        print(\"200393\", end=\" \")\n",
    "    \n",
    "    elif(i%4 == 0):\n",
    "        print(\"Adeel\", end=\" \")\n",
    "        \n",
    "    \n",
    "    elif(i%5 == 0):\n",
    "        print(\"Babar\", end=\" \")\n",
    "    \n",
    "    else:\n",
    "        print(i, end=\" \")"
   ]
  },
  {
   "cell_type": "code",
   "execution_count": null,
   "id": "e0eb7d0f",
   "metadata": {},
   "outputs": [],
   "source": []
  }
 ],
 "metadata": {
  "kernelspec": {
   "display_name": "Python 3",
   "language": "python",
   "name": "python3"
  },
  "language_info": {
   "codemirror_mode": {
    "name": "ipython",
    "version": 3
   },
   "file_extension": ".py",
   "mimetype": "text/x-python",
   "name": "python",
   "nbconvert_exporter": "python",
   "pygments_lexer": "ipython3",
   "version": "3.8.8"
  }
 },
 "nbformat": 4,
 "nbformat_minor": 5
}
