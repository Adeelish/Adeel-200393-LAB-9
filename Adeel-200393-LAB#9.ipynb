{
 "cells": [
  {
   "cell_type": "markdown",
   "id": "c113498c",
   "metadata": {},
   "source": [
    "# <center>Computer Application in Engineering Design Lab\n",
    "## <center>Lab 9, BCE Fall 2021\n",
    "### *Submitted by: Adeel Ishfaq Babar*\n",
    "### *Id: 200393*\n",
    "### Date: 12-Dec-2021"
   ]
  },
  {
   "cell_type": "code",
   "execution_count": 1,
   "id": "20f6cbda",
   "metadata": {},
   "outputs": [
    {
     "name": "stdout",
     "output_type": "stream",
     "text": [
      "{'emp1': {'name': 'Jhon', 'salary': 7500}, 'emp2': {'name': 'Emma', 'salary': 8000}, 'emp3': {'name': 'Brad', 'salary': 500}} \n",
      "\n",
      "{'emp1': {'name': 'Jhon',\n",
      " 'salary': 7500},\n",
      " 'emp2': {'name': 'Emma',\n",
      " 'salary': 8000},\n",
      " 'emp3': {'name': 'Brad',\n",
      " 'salary': 8500}}\n"
     ]
    }
   ],
   "source": [
    "# TASK-1:\n",
    "\n",
    "sample_dict ={'emp1': {'name': 'Jhon',\n",
    "                       'salary': 7500,},\n",
    "              'emp2': {'name': 'Emma',\n",
    "                       'salary': 8000},\n",
    "              'emp3': {'name': 'Brad',\n",
    "                       'salary': 500}\n",
    "}\n",
    "\n",
    "print(sample_dict,\"\\n\")\n",
    "sample_dict['emp3']['salary']= 8500\n",
    "print(str(sample_dict).replace(', ',',\\n '))\n",
    "\n"
   ]
  },
  {
   "cell_type": "code",
   "execution_count": 2,
   "id": "eef2b173",
   "metadata": {},
   "outputs": [
    {
     "name": "stdout",
     "output_type": "stream",
     "text": [
      "Math\n"
     ]
    }
   ],
   "source": [
    "# TASK-2\n",
    "\n",
    "sample_dict = {\n",
    "'Physics': 82,\n",
    "'Math': 65,\n",
    "'history': 75\n",
    "}\n",
    "print(min(sample_dict, key=sample_dict.get))"
   ]
  },
  {
   "cell_type": "code",
   "execution_count": 3,
   "id": "ef872180",
   "metadata": {},
   "outputs": [
    {
     "name": "stdout",
     "output_type": "stream",
     "text": [
      "{'name': 'Kelly',\n",
      " 'age': 25,\n",
      " 'salary': 8000,\n",
      " 'Place': 'New york'}\n"
     ]
    }
   ],
   "source": [
    "# TASK-3\n",
    "\n",
    "sample_dict = {\n",
    "\"name\": \"Kelly\",\n",
    "\"age\":25,\n",
    "\"salary\": 8000,\n",
    "\"city\": \"New york\"\n",
    "}\n",
    "\n",
    "sample_dict['Place'] = sample_dict.pop('city')\n",
    "print(str(sample_dict).replace(', ',',\\n '))"
   ]
  },
  {
   "cell_type": "code",
   "execution_count": 4,
   "id": "3f0683ec",
   "metadata": {},
   "outputs": [
    {
     "name": "stdout",
     "output_type": "stream",
     "text": [
      "200 Found\n"
     ]
    }
   ],
   "source": [
    "#Task-4\n",
    "\n",
    "sample_dict = {'a': 100, 'b': 200, 'c': 300}\n",
    "\n",
    "if 200 in sample_dict.values():\n",
    "    print('200 Found')"
   ]
  },
  {
   "cell_type": "code",
   "execution_count": 5,
   "id": "643dbb63",
   "metadata": {},
   "outputs": [
    {
     "name": "stdout",
     "output_type": "stream",
     "text": [
      "{'age': 25, 'city': 'New york'}\n"
     ]
    }
   ],
   "source": [
    "#Task-5\n",
    "\n",
    "sample_dict = {\n",
    "    \"name\": \"Kelly\",\n",
    "    \"age\": 25,\n",
    "    \"salary\": 8000,\n",
    "    \"city\": \"New york\"\n",
    "}\n",
    "# Keys to remove\n",
    "keys = [\"name\", \"salary\"]\n",
    "\n",
    "for i in keys:\n",
    "    sample_dict.pop(i)\n",
    "print(sample_dict)"
   ]
  },
  {
   "cell_type": "code",
   "execution_count": 6,
   "id": "7011f149",
   "metadata": {},
   "outputs": [
    {
     "name": "stdout",
     "output_type": "stream",
     "text": [
      "Enter Roll no = 200393\n",
      "Enter Name: Adeel\n",
      "Enter GPA: 3.4\n",
      "Enter Roll no = 200999\n",
      "Enter Name: Mujatabah\n",
      "Enter GPA: 3.4\n",
      "Enter Roll no = 200394\n",
      "Enter Name: Sufy\n",
      "Enter GPA: 3.2\n",
      "Enter Roll no = 9748345\n",
      "Enter Name: saim\n",
      "Enter GPA: 3.6\n",
      "Enter Roll no = 93474\n",
      "Enter Name: Khan\n",
      "Enter GPA: 3.1\n",
      "Enter Student to display =200393\n",
      "['Adeel', 3.4]\n"
     ]
    }
   ],
   "source": [
    "#Task-6\n",
    "\n",
    "d={} \n",
    "for i in range(5): \n",
    "    roll_no=int(input(\"Enter Roll no = \")) \n",
    "    Name=input(\"Enter Name: \") \n",
    "    GPA=float(input(\"Enter GPA: \")) \n",
    "    d[roll_no]=[Name,GPA] \n",
    "\n",
    "display = int(input(\"Enter Student to display =\"))\n",
    "\n",
    "if display in d.keys():\n",
    "    print(d[display])\n"
   ]
  },
  {
   "cell_type": "code",
   "execution_count": 9,
   "id": "aa111436",
   "metadata": {},
   "outputs": [
    {
     "name": "stdout",
     "output_type": "stream",
     "text": [
      "1 : {'Name=': 'Adeel', 'ID=': 200393}\n",
      "2 : {'Name2=': 'Sufyan', 'ID2=': 191968}\n",
      "3 : {'Name3=': 'Khan', 'ID3=': 384650}\n"
     ]
    }
   ],
   "source": [
    "# TASK-7\n",
    "\n",
    "Nested_dict={1:{'Name=':\"Adeel\",\n",
    "                 'ID=':200393},\n",
    "             2:{'Name2=':\"Sufyan\",\n",
    "                 'ID2=':191968},\n",
    "             3:{'Name3=':\"Khan\",\n",
    "                 'ID3=':384650}}\n",
    "for key,v in Nested_dict.items():\n",
    "    print(key,\":\",v)"
   ]
  },
  {
   "cell_type": "code",
   "execution_count": null,
   "id": "1278c666",
   "metadata": {},
   "outputs": [],
   "source": []
  },
  {
   "cell_type": "code",
   "execution_count": null,
   "id": "0d6acc48",
   "metadata": {},
   "outputs": [],
   "source": []
  },
  {
   "cell_type": "code",
   "execution_count": null,
   "id": "6eab0cf1",
   "metadata": {},
   "outputs": [],
   "source": []
  }
 ],
 "metadata": {
  "kernelspec": {
   "display_name": "Python 3",
   "language": "python",
   "name": "python3"
  },
  "language_info": {
   "codemirror_mode": {
    "name": "ipython",
    "version": 3
   },
   "file_extension": ".py",
   "mimetype": "text/x-python",
   "name": "python",
   "nbconvert_exporter": "python",
   "pygments_lexer": "ipython3",
   "version": "3.8.8"
  }
 },
 "nbformat": 4,
 "nbformat_minor": 5
}
