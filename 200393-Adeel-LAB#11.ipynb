{
 "cells": [
  {
   "cell_type": "markdown",
   "id": "7cdc14cd",
   "metadata": {},
   "source": [
    "# <center>Computer Application in Engineering Design Lab\n",
    "## <center>Lab 11, BCE Fall 2021\n",
    "### *Submitted by: Adeel Ishfaq Babar*\n",
    "### *Id: 200393*\n",
    "### Date: 19-Dec-2021"
   ]
  },
  {
   "cell_type": "code",
   "execution_count": 1,
   "id": "0991da7a",
   "metadata": {},
   "outputs": [
    {
     "name": "stdout",
     "output_type": "stream",
     "text": [
      "\n",
      "Enter ur roll number =200393\n",
      "Enter ur name=Adeel\n",
      "Enter ur CP Marks =44\n",
      "Enter ur OOP Marks =33\n",
      "Enter ur CAED Marks =55\n",
      "\n",
      "Name=Adeel\n",
      "Roll No=200393\n",
      "CP MARKS=44\n",
      "OOP MARKS=33\n",
      "CAED MARKS=55\n",
      "\n",
      "Total Marks of Adeel=132\n",
      "Average =44.0\n",
      "\n",
      "Enter ur roll number =234354\n",
      "Enter ur name=KHAN\n",
      "Enter ur CP Marks =22\n",
      "Enter ur OOP Marks =22\n",
      "Enter ur CAED Marks =22\n",
      "\n",
      "Name=KHAN\n",
      "Roll No=234354\n",
      "CP MARKS=22\n",
      "OOP MARKS=22\n",
      "CAED MARKS=22\n",
      "\n",
      "Total Marks of KHAN=66\n",
      "Average =22.0\n"
     ]
    },
    {
     "data": {
      "text/plain": [
       "22.0"
      ]
     },
     "execution_count": 1,
     "metadata": {},
     "output_type": "execute_result"
    }
   ],
   "source": [
    "class student:\n",
    "    def _input(a):\n",
    "        a.rolln=int(input(\"\\nEnter ur roll number =\"))\n",
    "        a.name=str(input(\"Enter ur name=\"))\n",
    "        a.CP=int(input(\"Enter ur CP Marks =\"))\n",
    "        a.OOP=int(input(\"Enter ur OOP Marks =\"))\n",
    "        a.CAED=int(input(\"Enter ur CAED Marks =\"))\n",
    "        \n",
    "    def show(a):\n",
    "        print(\"\\nName=\"+a.name)\n",
    "        print(\"Roll No=\"+str(a.rolln))\n",
    "        print(\"CP MARKS=\"+str(a.CP))     \n",
    "        print(\"OOP MARKS=\"+str(a.OOP))\n",
    "        print(\"CAED MARKS=\"+str(a.CAED))\n",
    "    \n",
    "    def total(t):\n",
    "        total=t.CP+t.OOP+t.CAED\n",
    "        print(\"\\nTotal Marks of \"+t.name+\"=\"+str(total))\n",
    "        return total\n",
    "    def avg(a,t):\n",
    "        avg=t/3\n",
    "        print(\"Average =\"+str(avg))\n",
    "        return avg\n",
    "    \n",
    "c1=student()\n",
    "c1._input()\n",
    "c1.show()\n",
    "t=c1.total()\n",
    "c1.avg(t)\n",
    "\n",
    "c2=student()\n",
    "c2._input()\n",
    "c2.show()\n",
    "t=c2.total()\n",
    "c2.avg(t)"
   ]
  },
  {
   "cell_type": "code",
   "execution_count": 2,
   "id": "8a597821",
   "metadata": {},
   "outputs": [
    {
     "name": "stdout",
     "output_type": "stream",
     "text": [
      "My name is Adeel. I am from Peshawar\n",
      "I go to AIR UNIVERSITY.\n"
     ]
    }
   ],
   "source": [
    "with open(\"story.txt\",\"w\") as f:\n",
    "    f.write(\"My name is Adeel. I am from Peshawar\\n\")\n",
    "    f.write(\"I go to AIR UNIVERSITY.\")\n",
    "\n",
    "with open(\"story.txt\",\"r\") as f:\n",
    "    R=f.read()\n",
    "    print(R)"
   ]
  },
  {
   "cell_type": "code",
   "execution_count": 3,
   "id": "4e2629e4",
   "metadata": {},
   "outputs": [
    {
     "name": "stdout",
     "output_type": "stream",
     "text": [
      "A\n",
      "B\n",
      "C\n",
      "C\n"
     ]
    }
   ],
   "source": [
    "Adeel=80\n",
    "ALI=70\n",
    "NOMAN=57\n",
    "JJ=40\n",
    "ELAN=20\n",
    "\n",
    "import module\n",
    "module.grade(Adeel)\n",
    "module.grade(ALI)\n",
    "module.grade(NOMAN)\n",
    "module.grade(JJ)"
   ]
  },
  {
   "cell_type": "code",
   "execution_count": 4,
   "id": "21968959",
   "metadata": {},
   "outputs": [
    {
     "name": "stdout",
     "output_type": "stream",
     "text": [
      "{'1': {'Name=': 'Adeel', 'ID=': 200393, 'GPA=': 3.2}, '2': {'Name2=': 'Sufyan', 'ID2=': 191968, 'GPA=': 3.4}, '3': {'Name3=': 'Khan', 'ID3=': 384650, 'GPA=': 3.6}}\n"
     ]
    }
   ],
   "source": [
    "import json\n",
    "\n",
    "Nested_dict={1:{'Name=':\"Adeel\",\n",
    "                 'ID=':200393,\n",
    "                 'GPA=':3.2},\n",
    "             2:{'Name2=':\"Sufyan\",\n",
    "                 'ID2=':191968,\n",
    "                 'GPA=':3.4},\n",
    "             3:{'Name3=':\"Khan\",\n",
    "                 'ID3=':384650,\n",
    "                 'GPA=':3.6}}\n",
    "\n",
    "#WRITE\n",
    "with open(\"Nested_dict.json\",\"w\") as f:\n",
    "    json.dump(Nested_dict,f)\n",
    "    \n",
    "#READ\n",
    "with open(\"Nested_dict.json\",\"r\") as f:\n",
    "    j=json.load(f)\n",
    "    print(j)"
   ]
  },
  {
   "cell_type": "code",
   "execution_count": 5,
   "id": "3d29876d",
   "metadata": {},
   "outputs": [
    {
     "name": "stdout",
     "output_type": "stream",
     "text": [
      "[['Year' 'HOST' 'Final venue' 'WINNER' 'Runner-up']\n",
      " ['2007' 'South Africa' 'Johannesberg' 'India' 'Pakistan']\n",
      " ['2009' 'England' 'London' 'Pakistan' 'Sri Lanka']\n",
      " ['2010' 'West Indies' 'Brigetown' 'England' 'Autralia']\n",
      " ['2012' 'Sri Lanka' 'Colombo' 'West Indies' 'Sri Lanka']]\n"
     ]
    }
   ],
   "source": [
    "import csv\n",
    "\n",
    "with open(\"worldcup.csv\", \"w\", newline=\"\") as f:\n",
    "    data_handler = csv.writer(f, delimiter=\",\")   #special object\n",
    "    data_handler.writerow([\"Year\",\"HOST\",'Final venue','WINNER','Runner-up'])\n",
    "    data_handler.writerow([\"2007\", \"South Africa\",\"Johannesberg\",'India','Pakistan'])\n",
    "    data_handler.writerow([\"2009\", \"England\",\"London\",\"Pakistan\",\"Sri Lanka\"])\n",
    "    data_handler.writerow([\"2010\", \"West Indies\",\"Brigetown\",\"England\",\"Autralia\"])\n",
    "    data_handler.writerow([\"2012\", \"Sri Lanka\",\"Colombo\",\"West Indies\",\"Sri Lanka\"])\n",
    "    \n",
    "with open(\"worldcup.csv\") as f:\n",
    "    contents_of_file = csv.reader(f)\n",
    "    inlist = []\n",
    "    for each_line in contents_of_file:\n",
    "        inlist += each_line\n",
    "import numpy as np\n",
    "print(np.array(inlist).reshape(5,5))"
   ]
  },
  {
   "cell_type": "code",
   "execution_count": 6,
   "id": "c44de464",
   "metadata": {},
   "outputs": [
    {
     "name": "stdout",
     "output_type": "stream",
     "text": [
      "[['Year' 'HOST' 'Final venue' 'WINNER' 'Runner-up']\n",
      " ['2007' 'South Africa' 'Johannesberg' 'India' 'Pakistan']\n",
      " ['2009' 'England' 'London' 'Pakistan' 'Sri Lanka']\n",
      " ['2010' 'West Indies' 'Brigetown' 'England' 'Autralia']\n",
      " ['2012' 'Sri Lanka' 'Colombo' 'West Indies' 'Sri Lanka']\n",
      " ['2014' 'Bangladesh' 'Dhaka' 'Sri Lanka' 'India']\n",
      " ['2016' 'India' 'Kolkata' 'West Indies' 'England']]\n"
     ]
    }
   ],
   "source": [
    "#APPEND IN CSV FILE\n",
    "with open(\"worldcup.csv\", \"a\", newline=\"\") as f:\n",
    "    data_handler = csv.writer(f, delimiter=\",\")\n",
    "    data_handler.writerow([\"2014\", \"Bangladesh\",\"Dhaka\",\"Sri Lanka\",\"India\"])\n",
    "    data_handler.writerow([\"2016\", \"India\",\"Kolkata\",\"West Indies\",\"England\"])\n",
    "\n",
    "#READ    \n",
    "with open(\"worldcup.csv\") as f:\n",
    "    contents_of_file = csv.reader(f)\n",
    "    inlist = []\n",
    "    for each_line in contents_of_file:\n",
    "        inlist += each_line\n",
    "import numpy as np\n",
    "print(np.array(inlist).reshape(7,5))"
   ]
  },
  {
   "cell_type": "code",
   "execution_count": null,
   "id": "1b0e4fcf",
   "metadata": {},
   "outputs": [],
   "source": []
  }
 ],
 "metadata": {
  "kernelspec": {
   "display_name": "Python 3",
   "language": "python",
   "name": "python3"
  },
  "language_info": {
   "codemirror_mode": {
    "name": "ipython",
    "version": 3
   },
   "file_extension": ".py",
   "mimetype": "text/x-python",
   "name": "python",
   "nbconvert_exporter": "python",
   "pygments_lexer": "ipython3",
   "version": "3.8.8"
  }
 },
 "nbformat": 4,
 "nbformat_minor": 5
}
